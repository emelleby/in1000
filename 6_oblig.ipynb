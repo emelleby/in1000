{
  "nbformat": 4,
  "nbformat_minor": 0,
  "metadata": {
    "colab": {
      "name": "6-oblig.ipynb",
      "provenance": [],
      "collapsed_sections": [],
      "toc_visible": true,
      "authorship_tag": "ABX9TyPWekXn8aksDmvJj7OSAmlq",
      "include_colab_link": true
    },
    "kernelspec": {
      "name": "python3",
      "display_name": "Python 3"
    }
  },
  "cells": [
    {
      "cell_type": "markdown",
      "metadata": {
        "id": "view-in-github",
        "colab_type": "text"
      },
      "source": [
        "<a href=\"https://colab.research.google.com/github/emelleby/in1000/blob/master/6_oblig.ipynb\" target=\"_parent\"><img src=\"https://colab.research.google.com/assets/colab-badge.svg\" alt=\"Open In Colab\"/></a>"
      ]
    },
    {
      "cell_type": "markdown",
      "metadata": {
        "id": "0fajhX7gyMcu",
        "colab_type": "text"
      },
      "source": [
        "# Oppgave 1: Salgsstatistikk\n",
        "## Filnavn: telefonsalg.py"
      ]
    },
    {
      "cell_type": "markdown",
      "metadata": {
        "id": "rwjFoHvOSPpF",
        "colab_type": "text"
      },
      "source": [
        "# New Section"
      ]
    },
    {
      "cell_type": "markdown",
      "metadata": {
        "id": "cdhtLXSiSS6l",
        "colab_type": "text"
      },
      "source": [
        "# New Section"
      ]
    },
    {
      "cell_type": "code",
      "metadata": {
        "id": "U-j8BxoAuXL1",
        "colab_type": "code",
        "outputId": "237f9544-e1c3-4171-d6d3-79d0dcff0620",
        "colab": {
          "base_uri": "https://localhost:8080/",
          "height": 34
        }
      },
      "source": [
        "y = \"musikk.txt\"\n",
        "for i, char in enumerate(y):\n",
        "    if char == \".\":\n",
        "        print(y[:i])\n",
        "\n",
        "\n",
        "\n"
      ],
      "execution_count": 7,
      "outputs": [
        {
          "output_type": "stream",
          "text": [
            "musikk\n"
          ],
          "name": "stdout"
        }
      ]
    },
    {
      "cell_type": "markdown",
      "metadata": {
        "id": "ohEcOI0Q0N5H",
        "colab_type": "text"
      },
      "source": [
        "Skriv en funksjon innlesing, med et parameter filnavn. Denne funksjonen skal lese inn en fil ved hjelp av filnavn og legge alle linjene i filen inn i en ordbok, der den ansattes navn blir nøkkelverdien og antallet salg blir innholdsverdien (husk å konvertere innholdsverdien til et heltall). Funksjonen skal deretter returnere ordboken.\n",
        "\n",
        "Hint: Du kan bruke streng-funksjonen split med “ “ (mellomrom) som parameter for å dele opp hver linje."
      ]
    },
    {
      "cell_type": "code",
      "metadata": {
        "id": "Klm9t47Ezx0W",
        "colab_type": "code",
        "colab": {}
      },
      "source": [
        "def innlesning(filnavn):\n",
        "    \"\"\"\n",
        "    Funksjon som tar en fil med 2 verdier separert med mellomrom som parameter og legger linjene in i en ordbok.\n",
        "    Funksjonen konerterer element 2 paa hver linje til heltall.\n",
        "    Ordboken returneres\n",
        "    \"\"\"\n",
        "\n",
        "    ordbok = {}\n",
        "    innfil = open(filnavn, mode='r')\n",
        "    for linje in innfil:\n",
        "        biter = linje.split(' ')\n",
        "        ordbok[biter[0]] = int(biter[1])\n",
        "\n",
        "    # Lukk filen\n",
        "    innfil.close()\n",
        "    return ordbok\n",
        "\n",
        "\n",
        "# innlesning(\"salgstall.txt\")\n"
      ],
      "execution_count": 0,
      "outputs": []
    },
    {
      "cell_type": "markdown",
      "metadata": {
        "id": "ZrAJaiI46MN-",
        "colab_type": "text"
      },
      "source": [
        "Lag en prosedyre maanedensSalgsperson som tar imot en ordbok, går gjennom denne og skriver ut navn og antall salg for den personen som solgte mest den måneden."
      ]
    },
    {
      "cell_type": "code",
      "metadata": {
        "id": "9wjgbhonMovB",
        "colab_type": "code",
        "outputId": "2e168238-cde2-412d-db84-53ca87f61f31",
        "colab": {
          "base_uri": "https://localhost:8080/",
          "height": 278
        }
      },
      "source": [
        "ordbok={'Heidi': 33, 'John': 97, 'Kari': 48, 'Per': 66}\n",
        "'''\n",
        "Sort dictionary elements by value\n",
        "'''\n",
        "\n",
        "print(\"**** SORT BY VALUE *******\")\n",
        "\n",
        "# Create a list of tuples sorted by index 1 i.e. value field     \n",
        "listofTuples = sorted(ordbok.items(),  key=lambda x: x[1])\n",
        "\n",
        "# Iterate over the sorted sequence\n",
        "for elem in listofTuples :\n",
        "    print(elem[0] , \" ::\" , elem[1] )    \n",
        "\n",
        "print(\"*************************\")\n",
        "\n",
        "# Use List comprehension to print the contents of dictionary , sorted by value\n",
        "[ print(key , \" :: \" , value) for (key, value) in sorted(ordbok.items() ,  key=lambda x: x[1]  ) ]\n",
        "\n",
        "print(\"**** SORT BY VALUE In Reverse Order *******\")\n",
        "\n",
        "# Create a list of tuples sorted by index 1 i.e. value field     \n",
        "listofTuples = sorted(ordbok.items(), reverse=True, key=lambda x: x[1])\n",
        "\n",
        "# Iterate over the sorted sequence\n",
        "for elem in listofTuples :\n",
        "    print(elem[0] , \" ::\" , elem[1] )    "
      ],
      "execution_count": 0,
      "outputs": [
        {
          "output_type": "stream",
          "text": [
            "**** SORT BY VALUE *******\n",
            "Heidi  :: 33\n",
            "Kari  :: 48\n",
            "Per  :: 66\n",
            "John  :: 97\n",
            "*************************\n",
            "Heidi  ::  33\n",
            "Kari  ::  48\n",
            "Per  ::  66\n",
            "John  ::  97\n",
            "**** SORT BY VALUE In Reverse Order *******\n",
            "John  :: 97\n",
            "Per  :: 66\n",
            "Kari  :: 48\n",
            "Heidi  :: 33\n"
          ],
          "name": "stdout"
        }
      ]
    },
    {
      "cell_type": "code",
      "metadata": {
        "id": "h8MRNWMG6Z4g",
        "colab_type": "code",
        "outputId": "e366898f-4970-4d77-a7b5-8ae5043ea5a7",
        "colab": {
          "base_uri": "https://localhost:8080/",
          "height": 173
        }
      },
      "source": [
        "def maanedensSalgsperson(ordbok):\n",
        "    \"\"\"\n",
        "    Function that will take a dict as argument and prints a sorted list\n",
        "    by value in reverse order.\n",
        "    It create a list of tuples and print the index 0 and the length of the list.\n",
        "    \"\"\"\n",
        "    for key, value in sorted(ordbok.items(), reverse=True, key=lambda x: x[1]):\n",
        "        print(f\"Navn: {key:<5} - Salg: {value}\")\n",
        "   \n",
        "    print('')\n",
        "\n",
        "    # Create a list of tuples sorted by index 1 i.e. value field     \n",
        "    listofTuples = sorted(ordbok.items(), reverse=True, key=lambda x: x[1])\n",
        "    print(f\"Maanedens salgsperson er {listofTuples[0][0]} med {listofTuples[0][1]} salg.\\n\")\n",
        "    print(f\"Aktive selgere denne perioden er {len(listofTuples)}.\")\n",
        "\n",
        "\n",
        "maanedensSalgsperson(innlesning(\"salgstall.txt\"))"
      ],
      "execution_count": 0,
      "outputs": [
        {
          "output_type": "stream",
          "text": [
            "Navn: Kari  - Salg: 148\n",
            "Navn: John  - Salg: 97\n",
            "Navn: Per   - Salg: 66\n",
            "Navn: Ola   - Salg: 34\n",
            "Navn: Heidi - Salg: 33\n",
            "\n",
            "Maanedens salgsperson er Kari med 148 salg.\n",
            "\n",
            "Aktive selgere denne perioden er 5.\n"
          ],
          "name": "stdout"
        }
      ]
    },
    {
      "cell_type": "code",
      "metadata": {
        "id": "ll8lvEa_c9XY",
        "colab_type": "code",
        "outputId": "f93ce0c8-1d94-47e1-f063-5c8e7f27ca13",
        "colab": {
          "base_uri": "https://localhost:8080/",
          "height": 86
        }
      },
      "source": [
        "# Iterate over the sorted sequence\n",
        "for elem in listofTuples :\n",
        "    print(elem[0] , \" ::\" , elem[1] )"
      ],
      "execution_count": 0,
      "outputs": [
        {
          "output_type": "stream",
          "text": [
            "John  :: 97\n",
            "Per  :: 66\n",
            "Kari  :: 48\n",
            "Heidi  :: 33\n"
          ],
          "name": "stdout"
        }
      ]
    },
    {
      "cell_type": "markdown",
      "metadata": {
        "id": "_1YabHz10lIl",
        "colab_type": "text"
      },
      "source": [
        "3. Skriv en funksjon totaltAntallSalg som tar imot en ordbok og returnerer summen av innholdsverdiene i ordboken."
      ]
    },
    {
      "cell_type": "code",
      "metadata": {
        "id": "pU5balzx3Sgb",
        "colab_type": "code",
        "outputId": "1e3a31ba-1181-4916-c610-a707730ffe0a",
        "colab": {
          "base_uri": "https://localhost:8080/",
          "height": 52
        }
      },
      "source": [
        "x= {'Heidi': 133, 'John': 97, 'Kari': 48, 'Per': 66}\n",
        "y=0\n",
        "print(x.values())\n",
        "for i in x.values():\n",
        "    y += i\n",
        "\n",
        "print(y)"
      ],
      "execution_count": 0,
      "outputs": [
        {
          "output_type": "stream",
          "text": [
            "dict_values([133, 97, 48, 66])\n",
            "344\n"
          ],
          "name": "stdout"
        }
      ]
    },
    {
      "cell_type": "code",
      "metadata": {
        "id": "_EvwGCxL02wt",
        "colab_type": "code",
        "colab": {}
      },
      "source": [
        "def totaltAntallSalg(ordbok):\n",
        "    total = 0\n",
        "    for salg in ordbok.values():\n",
        "        total += salg\n",
        "\n",
        "    return total\n",
        "\n",
        "# print(totaltAntallSalg(x))"
      ],
      "execution_count": 0,
      "outputs": []
    },
    {
      "cell_type": "markdown",
      "metadata": {
        "id": "vrSRrBKsFkJN",
        "colab_type": "text"
      },
      "source": [
        "Lag en funksjon gjennomsnittSalg som tar imot en ordbok og returnerer gjennomsnittet av verdiene dens. Hint: Funksjonen totaltAntallSalg gir deg allerede\n",
        "halvparten av løsningen her!"
      ]
    },
    {
      "cell_type": "code",
      "metadata": {
        "id": "XmFHDB-PHZyC",
        "colab_type": "code",
        "colab": {}
      },
      "source": [
        "x= {'Heidi': 133, 'John': 97, 'Kari': 48, 'Per': 66}\n",
        "def gjennomsnittSalg(ordbok):\n",
        "    total = 0\n",
        "    for i, salg in enumerate(ordbok.values()):\n",
        "        total += salg\n",
        "\n",
        "    return round(total / (i + 1), 2)\n",
        "assert gjennomsnittSalg({'foo': 2.34, 'baz': 4.56, 'bar': 9.21}) == 5.37\n",
        "# print(gjennomsnittSalg(x))\n"
      ],
      "execution_count": 0,
      "outputs": []
    },
    {
      "cell_type": "markdown",
      "metadata": {
        "id": "e9gYxd3U5bQL",
        "colab_type": "text"
      },
      "source": [
        "Til slutt skal du skrive en prosedyre hovedprogram(). Inne i hovedprogram skal du skrive ut den faktiske statistikken. Bruk funksjonene og prosedyrene du har laget, og skriv i tillegg ut antall selgere som ble lest inn. Filen du skal bruke for å teste programmet ditt er salgstall.txt. Denne txt.-filen skal leveres sammen med resten av filene på Devilry."
      ]
    },
    {
      "cell_type": "code",
      "metadata": {
        "id": "xBmG_Aka504S",
        "colab_type": "code",
        "outputId": "fdbb4c3b-de80-4d0b-a6ae-8e4d48c8bb6c",
        "colab": {
          "base_uri": "https://localhost:8080/",
          "height": 243
        }
      },
      "source": [
        "def hovedprogram(fil):\n",
        "    salgstall = innlesning(fil)\n",
        "    print(\"Salgstallene for perioden er:\")\n",
        "    maanedensSalgsperson(salgstall)\n",
        "    print(f\"Totalt antall salg: {totaltAntallSalg(salgstall)}\")\n",
        "    print(f\"Gjennomsnittlig salg er: {gjennomsnittSalg(salgstall)}\")\n",
        "    \n",
        "    \n",
        "\n",
        "hovedprogram(\"salgstall.txt\")"
      ],
      "execution_count": 0,
      "outputs": [
        {
          "output_type": "stream",
          "text": [
            "Salgstallene for perioden er:\n",
            "Navn: Kari  - Salg: 148\n",
            "Navn: John  - Salg: 97\n",
            "Navn: Svein - Salg: 95\n",
            "Navn: Per   - Salg: 66\n",
            "Navn: Ola   - Salg: 34\n",
            "Navn: Heidi - Salg: 33\n",
            "\n",
            "Maanedens salgsperson er Kari med 148 salg.\n",
            "\n",
            "Aktive selgere denne perioden er 6.\n",
            "Totalt antall salg: 473\n",
            "Gjennomsnittlig salg er: 78.83\n"
          ],
          "name": "stdout"
        }
      ]
    },
    {
      "cell_type": "markdown",
      "metadata": {
        "id": "f1ZSpukGqjj-",
        "colab_type": "text"
      },
      "source": [
        "# Oppgave 2: Motorsykkel\n",
        "###Filnavn: motorsykkel.py og testMotorsykkel.py"
      ]
    },
    {
      "cell_type": "markdown",
      "metadata": {
        "id": "9C9FTq-Kt6eK",
        "colab_type": "text"
      },
      "source": [
        "1. Skriv klassen Motorsykkel med en konstruktør (init-metode) som initierer de\n",
        "instansvariablene klassen trenger."
      ]
    },
    {
      "cell_type": "code",
      "metadata": {
        "id": "Ayhdgs-gqyS2",
        "colab_type": "code",
        "outputId": "d9a670b0-9f3a-402c-f04c-4b0988a0cb51",
        "colab": {
          "base_uri": "https://localhost:8080/",
          "height": 69
        }
      },
      "source": [
        "class Motorsykkel:\n",
        "    def __init__(self, merke, registreringsnummer, kilometerstand):\n",
        "        self.merke = merke\n",
        "        self.registreringsnummer = registreringsnummer\n",
        "        self.kilometerstand = kilometerstand\n",
        "\n",
        "    def __str__(self):\n",
        "        return f\"Sykkelen er en {self.merke}, med registreringsnummer \\\n",
        "{self.registreringsnummer} og har kilometerstand: {self.kilometerstand}.\"\n",
        "\n",
        "    def kjor(self, km):\n",
        "        self.kilometerstand += km\n",
        "\n",
        "    def hentKilometerstand(self):\n",
        "        return self.kilometerstand\n",
        "\n",
        "    def skrivUt(self):\n",
        "        return f\"Sykkelen er en {self.merke}, med registreringsnummer \\\n",
        "{self.registreringsnummer} og har kilometerstand: {self.kilometerstand}.\"\n",
        "\n",
        "\"\"\"\n",
        "honda = Motorsykkel(\"Honda\", \"DP1668\", 12345)\n",
        "\n",
        "Motorsykkel.kjor(honda, 2)\n",
        "print(honda)\n",
        "print(Motorsykkel.hentKilometerstand(honda))\n",
        "print(Motorsykkel.skrivUt(honda))\n",
        "\"\"\""
      ],
      "execution_count": 0,
      "outputs": [
        {
          "output_type": "stream",
          "text": [
            "Sykkelen er en Honda, med registreringsnummer DP1668 og har kilometerstand: 12347.\n",
            "12347\n",
            "Sykkelen er en Honda, med registreringsnummer DP1668 og har kilometerstand: 12347.\n"
          ],
          "name": "stdout"
        }
      ]
    },
    {
      "cell_type": "code",
      "metadata": {
        "id": "dMiCfR_P01vS",
        "colab_type": "code",
        "outputId": "3031a5bb-4550-4c49-bb18-b8ab9cb9a5c2",
        "colab": {
          "base_uri": "https://localhost:8080/",
          "height": 69
        }
      },
      "source": [
        "honda = Motorsykkel(\"Honda\", \"DP1668\", 12345)\n",
        "\n",
        "Motorsykkel.kjor(honda, 2)\n",
        "print(honda)\n",
        "print(Motorsykkel.hentKilometerstand(honda))\n",
        "print(Motorsykkel.skrivUt(honda))"
      ],
      "execution_count": 0,
      "outputs": [
        {
          "output_type": "stream",
          "text": [
            "Sykkelen er en Honda, med registreringsnummer DP1668 og har kilometerstand: 12347.\n",
            "12347\n",
            "Sykkelen er en Honda, med registreringsnummer DP1668 og har kilometerstand: 12347.\n"
          ],
          "name": "stdout"
        }
      ]
    },
    {
      "cell_type": "markdown",
      "metadata": {
        "id": "WilDNllJi1bR",
        "colab_type": "text"
      },
      "source": [
        "# Oppgave 3: Teori\n",
        "### Filnavn: Teori.txt"
      ]
    },
    {
      "cell_type": "markdown",
      "metadata": {
        "id": "h6IB6arojAXE",
        "colab_type": "text"
      },
      "source": [
        "1.   **Hva er innkapsling? Hvorfor er det nyttig?**\n",
        "> Innkapsling handler om å behandle klassens indre implementering avskilt fra omverdnen. Klassens grensesnitt definerses i klassens åpne metoder og er ikke avhengig av klassens implementering.\n",
        "> Ved innkapsling kan man holde interaksjon mellom objekter standardisert og endring av klassens definisjon vil ikke påvirke hvordan den brukes. Innkapsling brukes også for å beskytte objektenes integritet og gyldighet ved kun å tillate manipulasjon gjennom åpne metoder.\n",
        "\n",
        "\n",
        "\n",
        "2.   **Hva er grensesnittet til en klasse? Hvordan skiller det seg fra implementasjonen av en klasse?**\n",
        "> Grensesnittet er de åpne metodene klassen har for å maniplulere objektinstansenes data. Implementasjonen av klassen er funksjonalitet som for eksempel kan sjekke at det er gyldig manipulasjon av data og dermed sikrer objektets gyldighet.\n",
        "\n",
        "3. **Hva er en instansmetode, og hvordan skiller dette seg fra prosedyrene/funksjonene vi har møtt hittil?**\n",
        "> En instansmetode er en funksjon som opererer på et objekt av en bestemt klasse. Instansmetoden er definert i klassen. Mange av de prosedyrene/funksjonene vi har brukt så langt er instansmetoder på objekter som vi har brukt(str,list etc..). Noen av funksjonene vi har laget er mer universelle for å gjøre operasjoner på forskjellige typer objekter og ikke nødvendigvis knyttet til spesifikke klasser av objekter."
      ]
    },
    {
      "cell_type": "markdown",
      "metadata": {
        "id": "ZaiibQkRGfeo",
        "colab_type": "text"
      },
      "source": [
        "# Oppgave 4: Hund\n",
        "**Filnavn:** hund.py og testHund.py"
      ]
    },
    {
      "cell_type": "code",
      "metadata": {
        "id": "ICRvFpOpGkTU",
        "colab_type": "code",
        "outputId": "80b2ec04-0de7-4899-9405-7ac193700b1d",
        "colab": {
          "base_uri": "https://localhost:8080/",
          "height": 86
        }
      },
      "source": [
        "class Hund:\n",
        "    def __init__(self, alder, vekt):\n",
        "        self.alder = alder\n",
        "        self.vekt = vekt\n",
        "        self.metthet = 2\n",
        "\n",
        "    def __str__(self):\n",
        "        return f\"Hunden er {self.alder} aar, veier {self.vekt} kilo og er {self.metthet * 10}% mett.\"\n",
        "\n",
        "    def spis(self, mat):\n",
        "        \"\"\" Spisefunksjon som legger input til metthet og oker vekten med en kilo om hunden er over 70% mett \"\"\"\n",
        "        self.metthet += mat\n",
        "        self.vekt += 1 if self.metthet > 7 else 0\n",
        "        #if self.metthet > 7:\n",
        "            #self.vekt += 1\n",
        "\n",
        "    def spring(self):\n",
        "        self.metthet -= 1\n",
        "        self.vekt -= 1 if self.metthet < 5 else 0\n",
        "        #if self.metthet < 5:\n",
        "            #self.vekt -= 1\n",
        "\n",
        "fido = Hund(3, 10)\n",
        "\n",
        "print(fido)\n",
        "fido.spis(3)\n",
        "print(fido)\n",
        "print(fido.vekt)\n",
        "fido.spring()\n",
        "print(fido)"
      ],
      "execution_count": 0,
      "outputs": [
        {
          "output_type": "stream",
          "text": [
            "Hunden er 3 aar, veier 10 kilo og er 20% mett.\n",
            "Hunden er 3 aar, veier 10 kilo og er 50% mett.\n",
            "10\n",
            "Hunden er 3 aar, veier 9 kilo og er 40% mett.\n"
          ],
          "name": "stdout"
        }
      ]
    },
    {
      "cell_type": "markdown",
      "metadata": {
        "id": "Y9Px8FQeiLeM",
        "colab_type": "text"
      },
      "source": [
        "# Oppgave 5: Begreper\n"
      ]
    },
    {
      "cell_type": "markdown",
      "metadata": {
        "id": "aU7UhBmLiQMW",
        "colab_type": "text"
      },
      "source": [
        "\n",
        "\n",
        "### A: Klassedefinisjon\n",
        "Linje 1\n",
        "### B. Opprettelse av nytt objekt\n",
        "Linje 19 og 20\n",
        "### C. Definisjon av instansvariabel\n",
        "Linje 3 : 5\n",
        "### D. Definisjon av instansmetode\n",
        "Linje 7, 11, 15\n",
        "### E. Definisjon av konstruktør\n",
        "Linje 2\n",
        "### F. Kall på instansmetode\n",
        "Linje 21,22\n",
        "Linje 25:28\n",
        "Linje 31:34\n",
        "\n",
        "\n"
      ]
    },
    {
      "cell_type": "markdown",
      "metadata": {
        "id": "nbDBhEjJ27hQ",
        "colab_type": "text"
      },
      "source": [
        "#Oppgave 6: Egen\n",
        "**Filnavn:** boat.py"
      ]
    },
    {
      "cell_type": "markdown",
      "metadata": {
        "id": "bC9kluJ93LqA",
        "colab_type": "text"
      },
      "source": [
        "## **User stories:**\n",
        "\n",
        "As the boat owner, I want to add a boat to a list of boats, so I can keep a record of them.\n",
        "\n",
        "As a boat owner, I want to register a set of sails with each boat so I know the inventory for that boat.\n",
        "\n",
        "As a boat owner, I want define the type of sails the boat has got so I can know what sails are for the boat.\n",
        "\n",
        "As boat owner, I want to set usage for each sail so I can know if I need to buy some new sails.\n",
        "\n",
        "As a boat owner I want to print a list of my inventory of boats and sails for each boat including a condition for each sail so I know what I got.\n",
        "\n"
      ]
    },
    {
      "cell_type": "markdown",
      "metadata": {
        "id": "rBGzkM755Hvr",
        "colab_type": "text"
      },
      "source": [
        "## Klasser:\n",
        "BoatOwner(self, name):\n",
        "Boat(self, owner, sails):\n",
        "Sail(self, type, usage):\n",
        "\n"
      ]
    },
    {
      "cell_type": "code",
      "metadata": {
        "id": "aBpo1Lvv9pp3",
        "colab_type": "code",
        "colab": {}
      },
      "source": [
        "class Boat:\n",
        "\n",
        "    # Counter to keep track of boats\n",
        "    counter = 0\n",
        "    def __init__(self, merke, navn, owner=\"\"):\n",
        "        \"\"\" \n",
        "        A Boat has a 'merke' and a 'navn' and it's got a list of 'sails'.\n",
        "         \"\"\"\n",
        "        self.merke = merke\n",
        "        self.navn = navn\n",
        "        self.owner = owner\n",
        "        self.sails = []\n",
        "\n",
        "    # Id for the boats\n",
        "        self.id = Boat.counter\n",
        "        Boat.counter += 1\n",
        "\n",
        "    def printSails(self):\n",
        "        liste = []\n",
        "        for sail in self.sails:\n",
        "            liste.append(sail.Id)\n",
        "        return liste\n",
        "\n",
        "    def __str__(self):\n",
        "        return f\"{self.navn} er av typen {self.merke}. Følgende seil hører til: {Boat.printSails(self)}.\"\n",
        "\n",
        "    # Add a sail to the sails list\n",
        "    def addSail(self, Id):\n",
        "        self.sails.append(Id)"
      ],
      "execution_count": 0,
      "outputs": []
    },
    {
      "cell_type": "code",
      "metadata": {
        "id": "WTygVCje60mr",
        "colab_type": "code",
        "colab": {}
      },
      "source": [
        "class BoatOwner:\n",
        "    def __init__(self, name):\n",
        "        self.name = name\n",
        "        self.boats = []\n",
        "\n",
        "    def __str__(self):\n",
        "        return f\"{self.name} owns the following boats: {BoatOwner.printBoats(self)}\"\n",
        "\n",
        "    def printBoats(self):\n",
        "        liste = []\n",
        "        for boat in self.boats:\n",
        "            liste.append(boat.navn)\n",
        "        return liste\n",
        "\n",
        "    def addBoat(self, Id):\n",
        "        self.boats.append(Id)\n",
        "        "
      ],
      "execution_count": 0,
      "outputs": []
    },
    {
      "cell_type": "code",
      "metadata": {
        "id": "EJLBWrwMCXqd",
        "colab_type": "code",
        "colab": {}
      },
      "source": [
        "class Sail(object):\n",
        "    def __init__(self, Id, merke, condition = 100):\n",
        "        self.Id = Id\n",
        "        self.merke = merke\n",
        "        self.condition = condition\n",
        "\n",
        "    def __str__(self):\n",
        "        return (f\"{self.Id} is of type {self.merke} and its condition is {self.condition}.\")"
      ],
      "execution_count": 0,
      "outputs": []
    },
    {
      "cell_type": "code",
      "metadata": {
        "id": "P2TQrsUMFXV5",
        "colab_type": "code",
        "colab": {
          "base_uri": "https://localhost:8080/",
          "height": 102
        },
        "outputId": "d7878efe-4792-44c5-922f-21f05e121120"
      },
      "source": [
        "# Define a couple of sails\n",
        "_21 = Sail('#21', 'Main')\n",
        "_22 = Sail('#22', 'Jib', 99)\n",
        "print(_21)\n",
        "print(_22)\n",
        "\n",
        "# Define 2 boats\n",
        "baat = Boat('Star', 'KonTiki')\n",
        "baat2 = Boat('Star', 'Gjøa')\n",
        "\n",
        "# Add sails to the boat 'fram'\n",
        "baat.addSail(_21)\n",
        "baat.addSail(_22)\n",
        "print(baat.sails[0])\n",
        "\n",
        "# Add a boatOwner\n",
        "eivind = BoatOwner('Eivind')\n",
        "\n",
        "# Buy a boat\n",
        "eivind.addBoat(baat)\n",
        "eivind.addBoat(baat2)\n",
        "print(eivind)\n",
        "\n",
        "print(baat)\n",
        "\n",
        "\n"
      ],
      "execution_count": 123,
      "outputs": [
        {
          "output_type": "stream",
          "text": [
            "#21 is of type Main and its condition is 100.\n",
            "#22 is of type Jib and its condition is 99.\n",
            "#21 is of type Main and its condition is 100.\n",
            "Eivind owns the following boats: ['KonTiki', 'Gjøa']\n",
            "KonTiki er av typen Star. Følgende seil hører til: ['#21', '#22'].\n"
          ],
          "name": "stdout"
        }
      ]
    },
    {
      "cell_type": "code",
      "metadata": {
        "id": "tuyrU5Eb5KmL",
        "colab_type": "code",
        "colab": {
          "base_uri": "https://localhost:8080/",
          "height": 153
        },
        "outputId": "077ccb13-bb2a-4058-99ca-6ae15e40ab92"
      },
      "source": [
        "# Main function\n",
        "def main():        \n",
        "\n",
        "    owner = BoatOwner(input('Hva er ditt navn? '))\n",
        "    print(owner)\n",
        "    \n",
        "    # Add boat(s)\n",
        "    # Hvis bruker vil legge til båt så svarer man ja\n",
        "    baat = input(\"Eier du en båt(ja/nei)? \").lower()\n",
        "    if baat == \"ja\":\n",
        "        baatnavn = input(\"Hva er navnet på båten? \")\n",
        "        baatmerke = input(\"Hvilket merke er båten? \")\n",
        "        baat = Boat(baatmerke, baatnavn, owner)\n",
        "        owner.addBoat(baat)\n",
        "\n",
        "    else:\n",
        "        print(\"Ingen bruk for programmet. Ha en fin dag!\")\n",
        "\n",
        "    # Hvis brukeren vil legge til seil for båten\n",
        "    seil = input(\"Har båten seil du vil legge til(ja/nei)? \").lower()\n",
        "    while seil == \"ja\":\n",
        "        sailid = input(\"Hva er seilets Id? \").lower()\n",
        "        sailmerke = input(\"Hvilket merke er seilet? \")\n",
        "        sail = Sail(sailid, sailmerke)\n",
        "        seil = input(\"Har båten flere seil du vil legge til(ja/nei)? \").lower()\n",
        "\n",
        "\n",
        "    print(owner)\n",
        "\n",
        "    print(\"End\")\n",
        "\n",
        "if __name__ == \"__main__\":\n",
        "    main()\n"
      ],
      "execution_count": 130,
      "outputs": [
        {
          "output_type": "stream",
          "text": [
            "Hva er ditt navn? Eivind\n",
            "Eivind owns the following boats: []\n",
            "Eier du en båt(ja/nei)? ja\n",
            "Hva er navnet på båten? Wenche\n",
            "Hvilket merke er båten? Båt\n",
            "Har båten seil du vil legge til(ja/nei)? nei\n",
            "Eivind owns the following boats: ['Wenche']\n",
            "End\n"
          ],
          "name": "stdout"
        }
      ]
    },
    {
      "cell_type": "code",
      "metadata": {
        "id": "EcocthyqOsEj",
        "colab_type": "code",
        "colab": {
          "base_uri": "https://localhost:8080/",
          "height": 34
        },
        "outputId": "dd90e835-f9d1-439b-8d0c-ff48ce94f6dc"
      },
      "source": [
        "print(BoatOwner(owner))"
      ],
      "execution_count": 134,
      "outputs": [
        {
          "output_type": "stream",
          "text": [
            "Eivind owns the following boats: []\n"
          ],
          "name": "stdout"
        }
      ]
    },
    {
      "cell_type": "markdown",
      "metadata": {
        "id": "sA9fAiDlu2Ui",
        "colab_type": "text"
      },
      "source": [
        "# Oppgave 6: Egen 2\n"
      ]
    },
    {
      "cell_type": "markdown",
      "metadata": {
        "id": "Av3wX9izu_X_",
        "colab_type": "text"
      },
      "source": [
        "Skriv en klasse Person med en konstruktør som tar imot navn og alder. I tillegg skal konstruktøren ha en tom liste hobbyer. Skriv en metode leggTilHobbysom tar imot en tekststreng og legger den til i hobbyer-listen. Skriv også en metode skrivHobbyer. Denne metoden skal skrive alle hobbyene etter hverandre på en linje. Gi deretter Person-klassen en metode skrivUtsom i tillegg til å skrive ut navn og alder kaller på metoden skrivHobbyer. La brukeren skrive inn navn og alder, og lag et Person-objekt med informasjonen du får. Deretter skal brukeren ved hjelp av en løkke få legge til så mange hobbyer de vil. Når brukeren ikke lenger ønsker å oppgi hobbyerskal statistikk om brukeren skrives ut."
      ]
    },
    {
      "cell_type": "code",
      "metadata": {
        "id": "EcZSgOBOvI_T",
        "colab_type": "code",
        "colab": {
          "base_uri": "https://localhost:8080/",
          "height": 85
        },
        "outputId": "059fce65-06b3-4133-d19d-c6da134e909a"
      },
      "source": [
        "class Person:\n",
        "    def __init__(self,navn,alder):\n",
        "        self.navn = navn\n",
        "        self.alder = alder\n",
        "        self.hobbyer = []\n",
        "\n",
        "    def leggTilHobby(self, hobby):\n",
        "        self.hobbyer.append(hobby)\n",
        "\n",
        "    def skrivHobbyer(self):\n",
        "        for hobby in self.hobbyer:\n",
        "            print(hobby, end=\" \")\n",
        "\n",
        "    def skrivUtsom(self):\n",
        "        return (f\"{navn}({alder}) har følgende hobbyer: \" + str(Person.skrivHobbyer(self)))\n",
        "       \n",
        "\n",
        "navn = input('Hva er ditt navn? ')\n",
        "alder = input('Hvor gammel er du? ')\n",
        "\n",
        "bruker = Person(navn, alder)\n",
        "\n",
        "while True:\n",
        "        try:\n",
        "            innfil = input('Oppgi navnet på filen: ')\n",
        "            \n",
        "            main(innfil)\n",
        "            \n",
        "            break\n",
        "    \n",
        "        except FileNotFoundError:\n",
        "            print(\"Finner ikke filen\", innfil, \"- Prøv igjen\")\n",
        "            \n",
        "        else:\n",
        "            print(\"Doing something else after the 'try' succeeds\")\n",
        "          \n",
        "        finally:\n",
        "            print(\"En siste ting.\")\n",
        "\n",
        "try:\n",
        "    Person.leggTilHobby(bruker, hobby = input(\"Navn på hobby? \"))\n",
        "\n",
        "\n",
        "\n",
        "print(Person.skrivUtsom(bruker))\n"
      ],
      "execution_count": 147,
      "outputs": [
        {
          "output_type": "stream",
          "text": [
            "Hva er ditt navn? Eivind\n",
            "Hvor gammel er du? 45\n",
            "Har du en hobby? Sjakk\n",
            "Sjakk Eivind(45) har følgende hobbyer:None\n"
          ],
          "name": "stdout"
        }
      ]
    }
  ]
}