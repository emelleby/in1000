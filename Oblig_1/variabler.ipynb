{
 "cells": [
  {
   "cell_type": "code",
   "execution_count": 6,
   "metadata": {},
   "outputs": [
    {
     "name": "stdin",
     "output_type": "stream",
     "text": [
      " Eivind\n"
     ]
    },
    {
     "name": "stdout",
     "output_type": "stream",
     "text": [
      "Hei Eivind\n",
      "3\n",
      "2\n",
      "Difference 1\n"
     ]
    },
    {
     "name": "stdin",
     "output_type": "stream",
     "text": [
      " Lars\n"
     ]
    },
    {
     "name": "stdout",
     "output_type": "stream",
     "text": [
      "Eivind og Lars\n"
     ]
    }
   ],
   "source": [
    "\n",
    "# ask for an input and store as variable\n",
    "navn1 = input()\n",
    "\n",
    "# print to terminal\n",
    "print(\"Hei \" + navn1)\n",
    "\n",
    "# Define variables\n",
    "number1 = 3\n",
    "number2 = 2\n",
    "\n",
    "# print to terminal\n",
    "print(number1)\n",
    "print(number2)\n",
    "\n",
    "#Compute difference\n",
    "Difference = number1 - number2\n",
    "\n",
    "# print to terminal\n",
    "print(\"Difference \" + str(Difference))\n",
    "\n",
    "# ask for a new input and store as variable\n",
    "navn2 = input()\n",
    "\n",
    "# Create new combined variable\n",
    "sammen = (navn1 + \" og \" + navn2)\n",
    "\n",
    "#print out\n",
    "print(sammen)"
   ]
  },
  {
   "cell_type": "code",
   "execution_count": null,
   "metadata": {},
   "outputs": [],
   "source": []
  }
 ],
 "metadata": {
  "kernelspec": {
   "display_name": "Python",
   "language": "python",
   "name": "conda-env-python-py"
  },
  "language_info": {
   "codemirror_mode": {
    "name": "ipython",
    "version": 3
   },
   "file_extension": ".py",
   "mimetype": "text/x-python",
   "name": "python",
   "nbconvert_exporter": "python",
   "pygments_lexer": "ipython3",
   "version": "3.6.7"
  }
 },
 "nbformat": 4,
 "nbformat_minor": 4
}
